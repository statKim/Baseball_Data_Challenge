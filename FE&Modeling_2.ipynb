{
 "cells": [
  {
   "cell_type": "markdown",
   "metadata": {},
   "source": [
    "# 2nd Feature Engineering"
   ]
  },
  {
   "cell_type": "code",
   "execution_count": 1,
   "metadata": {},
   "outputs": [],
   "source": [
    "import numpy as np\n",
    "import pandas as pd\n",
    "import matplotlib.pyplot as plt\n",
    "import seaborn as sns\n",
    "plt.style.use(\"fivethirtyeight\")\n",
    "import warnings\n",
    "warnings.filterwarnings(\"ignore\")\n",
    "%matplotlib inline\n",
    "from matplotlib import rc, font_manager\n",
    "rc(\"font\", family=\"Malgun Gothic\")"
   ]
  },
  {
   "cell_type": "code",
   "execution_count": 11,
   "metadata": {},
   "outputs": [],
   "source": [
    "regular = pd.read_csv(\"data/Regular_Season_Batter.csv\")"
   ]
  },
  {
   "cell_type": "code",
   "execution_count": 12,
   "metadata": {},
   "outputs": [
    {
     "name": "stdout",
     "output_type": "stream",
     "text": [
      "avg\n",
      "G\n",
      "AB\n",
      "R\n",
      "H\n",
      "2B\n",
      "3B\n",
      "HR\n",
      "TB\n",
      "RBI\n",
      "SB\n",
      "CS\n",
      "BB\n",
      "HBP\n",
      "SO\n",
      "GDP\n",
      "SLG\n",
      "OBP\n",
      "E\n"
     ]
    }
   ],
   "source": [
    "# lag 변수\n",
    "for j in ['avg', 'G', 'AB', 'R', 'H', '2B', '3B', 'HR', 'TB', 'RBI', 'SB', 'CS', 'BB', 'HBP', 'SO', 'GDP','SLG', 'OBP', 'E']:\n",
    "    lag_1 = []\n",
    "    for i in range(len(regular)):\n",
    "        if len(regular.loc[(regular[\"batter_name\"]==regular[\"batter_name\"].iloc[i])&(regular[\"year\"]==regular[\"year\"][i]-1)][j])==0:\n",
    "            lag_1.append(np.nan)\n",
    "        else:\n",
    "            lag_1.append(regular.loc[(regular[\"batter_name\"]==regular[\"batter_name\"].iloc[i])&(regular[\"year\"]==regular[\"year\"][i]-1)][j].iloc[0])\n",
    "    \n",
    "    regular[\"lag_1_\" + j] = lag_1\n",
    "    print(j)"
   ]
  },
  {
   "cell_type": "code",
   "execution_count": 13,
   "metadata": {},
   "outputs": [],
   "source": [
    "regular[\"1B\"] = regular[\"H\"] - regular[\"2B\"] - regular[\"3B\"] - regular[\"HR\"]"
   ]
  },
  {
   "cell_type": "code",
   "execution_count": 14,
   "metadata": {},
   "outputs": [
    {
     "data": {
      "text/html": [
       "<div>\n",
       "<style>\n",
       "    .dataframe thead tr:only-child th {\n",
       "        text-align: right;\n",
       "    }\n",
       "\n",
       "    .dataframe thead th {\n",
       "        text-align: left;\n",
       "    }\n",
       "\n",
       "    .dataframe tbody tr th {\n",
       "        vertical-align: top;\n",
       "    }\n",
       "</style>\n",
       "<table border=\"1\" class=\"dataframe\">\n",
       "  <thead>\n",
       "    <tr style=\"text-align: right;\">\n",
       "      <th></th>\n",
       "      <th>batter_id</th>\n",
       "      <th>batter_name</th>\n",
       "      <th>year</th>\n",
       "      <th>team</th>\n",
       "      <th>avg</th>\n",
       "      <th>G</th>\n",
       "      <th>AB</th>\n",
       "      <th>R</th>\n",
       "      <th>H</th>\n",
       "      <th>2B</th>\n",
       "      <th>...</th>\n",
       "      <th>lag_1_SB</th>\n",
       "      <th>lag_1_CS</th>\n",
       "      <th>lag_1_BB</th>\n",
       "      <th>lag_1_HBP</th>\n",
       "      <th>lag_1_SO</th>\n",
       "      <th>lag_1_GDP</th>\n",
       "      <th>lag_1_SLG</th>\n",
       "      <th>lag_1_OBP</th>\n",
       "      <th>lag_1_E</th>\n",
       "      <th>1B</th>\n",
       "    </tr>\n",
       "  </thead>\n",
       "  <tbody>\n",
       "    <tr>\n",
       "      <th>0</th>\n",
       "      <td>0</td>\n",
       "      <td>가르시아</td>\n",
       "      <td>2018</td>\n",
       "      <td>LG</td>\n",
       "      <td>0.339</td>\n",
       "      <td>50</td>\n",
       "      <td>183</td>\n",
       "      <td>27</td>\n",
       "      <td>62</td>\n",
       "      <td>9</td>\n",
       "      <td>...</td>\n",
       "      <td>NaN</td>\n",
       "      <td>NaN</td>\n",
       "      <td>NaN</td>\n",
       "      <td>NaN</td>\n",
       "      <td>NaN</td>\n",
       "      <td>NaN</td>\n",
       "      <td>NaN</td>\n",
       "      <td>NaN</td>\n",
       "      <td>NaN</td>\n",
       "      <td>45</td>\n",
       "    </tr>\n",
       "    <tr>\n",
       "      <th>1</th>\n",
       "      <td>1</td>\n",
       "      <td>강경학</td>\n",
       "      <td>2011</td>\n",
       "      <td>한화</td>\n",
       "      <td>0.000</td>\n",
       "      <td>2</td>\n",
       "      <td>1</td>\n",
       "      <td>0</td>\n",
       "      <td>0</td>\n",
       "      <td>0</td>\n",
       "      <td>...</td>\n",
       "      <td>NaN</td>\n",
       "      <td>NaN</td>\n",
       "      <td>NaN</td>\n",
       "      <td>NaN</td>\n",
       "      <td>NaN</td>\n",
       "      <td>NaN</td>\n",
       "      <td>NaN</td>\n",
       "      <td>NaN</td>\n",
       "      <td>NaN</td>\n",
       "      <td>0</td>\n",
       "    </tr>\n",
       "    <tr>\n",
       "      <th>2</th>\n",
       "      <td>1</td>\n",
       "      <td>강경학</td>\n",
       "      <td>2014</td>\n",
       "      <td>한화</td>\n",
       "      <td>0.221</td>\n",
       "      <td>41</td>\n",
       "      <td>86</td>\n",
       "      <td>11</td>\n",
       "      <td>19</td>\n",
       "      <td>2</td>\n",
       "      <td>...</td>\n",
       "      <td>NaN</td>\n",
       "      <td>NaN</td>\n",
       "      <td>NaN</td>\n",
       "      <td>NaN</td>\n",
       "      <td>NaN</td>\n",
       "      <td>NaN</td>\n",
       "      <td>NaN</td>\n",
       "      <td>NaN</td>\n",
       "      <td>NaN</td>\n",
       "      <td>13</td>\n",
       "    </tr>\n",
       "    <tr>\n",
       "      <th>3</th>\n",
       "      <td>1</td>\n",
       "      <td>강경학</td>\n",
       "      <td>2015</td>\n",
       "      <td>한화</td>\n",
       "      <td>0.257</td>\n",
       "      <td>120</td>\n",
       "      <td>311</td>\n",
       "      <td>50</td>\n",
       "      <td>80</td>\n",
       "      <td>7</td>\n",
       "      <td>...</td>\n",
       "      <td>0.0</td>\n",
       "      <td>0.0</td>\n",
       "      <td>13.0</td>\n",
       "      <td>2.0</td>\n",
       "      <td>28.0</td>\n",
       "      <td>1.0</td>\n",
       "      <td>0.349</td>\n",
       "      <td>0.337</td>\n",
       "      <td>6.0</td>\n",
       "      <td>67</td>\n",
       "    </tr>\n",
       "    <tr>\n",
       "      <th>4</th>\n",
       "      <td>1</td>\n",
       "      <td>강경학</td>\n",
       "      <td>2016</td>\n",
       "      <td>한화</td>\n",
       "      <td>0.158</td>\n",
       "      <td>46</td>\n",
       "      <td>101</td>\n",
       "      <td>16</td>\n",
       "      <td>16</td>\n",
       "      <td>3</td>\n",
       "      <td>...</td>\n",
       "      <td>4.0</td>\n",
       "      <td>3.0</td>\n",
       "      <td>40.0</td>\n",
       "      <td>5.0</td>\n",
       "      <td>58.0</td>\n",
       "      <td>3.0</td>\n",
       "      <td>0.325</td>\n",
       "      <td>0.348</td>\n",
       "      <td>15.0</td>\n",
       "      <td>10</td>\n",
       "    </tr>\n",
       "  </tbody>\n",
       "</table>\n",
       "<p>5 rows × 49 columns</p>\n",
       "</div>"
      ],
      "text/plain": [
       "   batter_id batter_name  year team    avg    G   AB   R   H  2B ...  \\\n",
       "0          0        가르시아  2018   LG  0.339   50  183  27  62   9 ...   \n",
       "1          1         강경학  2011   한화  0.000    2    1   0   0   0 ...   \n",
       "2          1         강경학  2014   한화  0.221   41   86  11  19   2 ...   \n",
       "3          1         강경학  2015   한화  0.257  120  311  50  80   7 ...   \n",
       "4          1         강경학  2016   한화  0.158   46  101  16  16   3 ...   \n",
       "\n",
       "   lag_1_SB  lag_1_CS  lag_1_BB  lag_1_HBP  lag_1_SO  lag_1_GDP  lag_1_SLG  \\\n",
       "0       NaN       NaN       NaN        NaN       NaN        NaN        NaN   \n",
       "1       NaN       NaN       NaN        NaN       NaN        NaN        NaN   \n",
       "2       NaN       NaN       NaN        NaN       NaN        NaN        NaN   \n",
       "3       0.0       0.0      13.0        2.0      28.0        1.0      0.349   \n",
       "4       4.0       3.0      40.0        5.0      58.0        3.0      0.325   \n",
       "\n",
       "   lag_1_OBP  lag_1_E  1B  \n",
       "0        NaN      NaN  45  \n",
       "1        NaN      NaN   0  \n",
       "2        NaN      NaN  13  \n",
       "3      0.337      6.0  67  \n",
       "4      0.348     15.0  10  \n",
       "\n",
       "[5 rows x 49 columns]"
      ]
     },
     "execution_count": 14,
     "metadata": {},
     "output_type": "execute_result"
    }
   ],
   "source": [
    "regular.head()"
   ]
  },
  {
   "cell_type": "markdown",
   "metadata": {},
   "source": [
    "신뢰성이 있는 지표 : 홈런, 삼진, 볼넷 (lag_변수들 이용)\n",
    "\n",
    "신뢰성이 낮은 지표 : 3루타, avg, 1루타 (누적 성적 이용)"
   ]
  },
  {
   "cell_type": "markdown",
   "metadata": {},
   "source": [
    "신뢰성이 낮은 지포 : 1B/AB, avg, 3B/AB => 이 변수들은 lag로 불충분 (lag + total)"
   ]
  },
  {
   "cell_type": "code",
   "execution_count": 42,
   "metadata": {},
   "outputs": [
    {
     "data": {
      "text/plain": [
       "0.20100502512562815"
      ]
     },
     "execution_count": 42,
     "metadata": {},
     "output_type": "execute_result"
    }
   ],
   "source": [
    "regular.loc[(regular[\"batter_name\"]==\"강경학\")&(regular[\"year\"]<2016),\"1B\"].sum() / regular.loc[(regular[\"batter_name\"]==\"강경학\")&(regular[\"year\"]<2016),\"AB\"].sum()"
   ]
  },
  {
   "cell_type": "code",
   "execution_count": 43,
   "metadata": {},
   "outputs": [
    {
     "data": {
      "text/plain": [
       "0.017587939698492462"
      ]
     },
     "execution_count": 43,
     "metadata": {},
     "output_type": "execute_result"
    }
   ],
   "source": [
    "regular.loc[(regular[\"batter_name\"]==\"강경학\")&(regular[\"year\"]<2016),\"3B\"].sum() / regular.loc[(regular[\"batter_name\"]==\"강경학\")&(regular[\"year\"]<2016),\"AB\"].sum()"
   ]
  },
  {
   "cell_type": "code",
   "execution_count": 44,
   "metadata": {},
   "outputs": [
    {
     "data": {
      "text/plain": [
       "0.24857537688442213"
      ]
     },
     "execution_count": 44,
     "metadata": {},
     "output_type": "execute_result"
    }
   ],
   "source": [
    "a = regular.loc[(regular[\"batter_name\"]==\"강경학\")&(regular[\"year\"]<2016)]\n",
    "(a[\"avg\"] * a[\"AB\"]).sum() / a[\"AB\"].sum()"
   ]
  },
  {
   "cell_type": "code",
   "execution_count": 50,
   "metadata": {},
   "outputs": [],
   "source": [
    "total_1BnAB = []\n",
    "total_3BnAB = []\n",
    "total_avg = []\n",
    "for i in range(len(regular)):\n",
    "    a = regular.loc[(regular[\"batter_name\"]==regular[\"batter_name\"].iloc[i])&(regular[\"year\"]<regular[\"year\"].iloc[i])]\n",
    "    if len(a) == 0:\n",
    "        total_1BnAB.append(np.nan)\n",
    "        total_3BnAB.append(np.nan)\n",
    "        total_avg.append(np.nan)        \n",
    "    else:\n",
    "        total_1BnAB.append(a[\"1B\"].sum() / a[\"AB\"].sum())\n",
    "        total_3BnAB.append(a[\"3B\"].sum() / a[\"AB\"].sum())\n",
    "        total_avg.append((a[\"avg\"] * a[\"AB\"]).sum() / a[\"AB\"].sum())"
   ]
  },
  {
   "cell_type": "code",
   "execution_count": 51,
   "metadata": {},
   "outputs": [],
   "source": [
    "regular[\"total_1BnAB\"] = total_1BnAB\n",
    "regular[\"total_3BnAB\"] = total_3BnAB\n",
    "regular[\"total_avg\"] = total_avg"
   ]
  },
  {
   "cell_type": "markdown",
   "metadata": {},
   "source": [
    "## Model building"
   ]
  },
  {
   "cell_type": "code",
   "execution_count": 18,
   "metadata": {},
   "outputs": [],
   "source": [
    "regular = pd.read_csv(\"data/Regular_Season_Batter.csv\")\n",
    "del regular[\"team\"]\n",
    "del regular[\"career\"]"
   ]
  },
  {
   "cell_type": "code",
   "execution_count": 19,
   "metadata": {},
   "outputs": [
    {
     "data": {
      "text/plain": [
       "Index(['batter_id', 'batter_name', 'year', 'avg', 'G', 'AB', 'R', 'H', '2B',\n",
       "       '3B', 'HR', 'TB', 'RBI', 'SB', 'CS', 'BB', 'HBP', 'SO', 'GDP', 'SLG',\n",
       "       'OBP', 'E', 'height/weight', 'year_born', 'position', 'starting_salary',\n",
       "       'OPS'],\n",
       "      dtype='object')"
      ]
     },
     "execution_count": 19,
     "metadata": {},
     "output_type": "execute_result"
    }
   ],
   "source": [
    "regular.columns"
   ]
  },
  {
   "cell_type": "code",
   "execution_count": 20,
   "metadata": {},
   "outputs": [],
   "source": [
    "agg = {}\n",
    "for i in regular.columns:\n",
    "    agg[i] = []\n",
    "for i in regular.loc[regular[\"year\"]==2018, \"batter_name\"].unique():\n",
    "    for j in regular.columns:\n",
    "        if j in ['batter_id','batter_name','height/weight','year_born','position','starting_salary']:\n",
    "            agg[j].append(regular.loc[regular[\"batter_name\"]==i,j].iloc[0])\n",
    "        elif j in ['avg', 'G', 'AB', 'R', 'H', '2B', '3B', 'HR', 'TB', 'RBI', 'SB', 'CS', 'BB', 'HBP', 'SO', 'GDP', 'SLG', 'OBP', 'E', 'OPS']:\n",
    "            agg[j].append(0)\n",
    "        elif j == \"year\":\n",
    "            agg[j].append(2019)"
   ]
  },
  {
   "cell_type": "code",
   "execution_count": 25,
   "metadata": {},
   "outputs": [],
   "source": [
    "regular = pd.concat([regular, pd.DataFrame(agg, columns=regular.columns)])"
   ]
  },
  {
   "cell_type": "code",
   "execution_count": 27,
   "metadata": {},
   "outputs": [
    {
     "data": {
      "text/plain": [
       "2019    227\n",
       "2018    227\n",
       "2017    217\n",
       "2016    213\n",
       "2015    207\n",
       "2013    194\n",
       "2014    186\n",
       "2012    174\n",
       "2011    151\n",
       "2010    130\n",
       "2009    124\n",
       "2008    115\n",
       "2007     98\n",
       "2006     85\n",
       "2005     73\n",
       "2004     68\n",
       "2003     54\n",
       "2002     43\n",
       "2001     32\n",
       "2000     20\n",
       "1999     14\n",
       "1998     10\n",
       "1997      8\n",
       "1996      7\n",
       "1994      2\n",
       "1995      1\n",
       "1993      1\n",
       "Name: year, dtype: int64"
      ]
     },
     "execution_count": 27,
     "metadata": {},
     "output_type": "execute_result"
    }
   ],
   "source": [
    "regular.year.value_counts()"
   ]
  },
  {
   "cell_type": "code",
   "execution_count": 28,
   "metadata": {},
   "outputs": [],
   "source": [
    "regular[\"1B\"] = regular[\"H\"] - regular[\"2B\"] - regular[\"3B\"] - regular[\"HR\"]"
   ]
  },
  {
   "cell_type": "code",
   "execution_count": 31,
   "metadata": {},
   "outputs": [
    {
     "name": "stdout",
     "output_type": "stream",
     "text": [
      "avg\n",
      "G\n",
      "AB\n",
      "R\n",
      "H\n",
      "2B\n",
      "3B\n",
      "HR\n",
      "TB\n",
      "RBI\n",
      "SB\n",
      "CS\n",
      "BB\n",
      "HBP\n",
      "SO\n",
      "GDP\n",
      "SLG\n",
      "OBP\n",
      "E\n"
     ]
    }
   ],
   "source": [
    "# lag 변수\n",
    "for j in ['avg', 'G', 'AB', 'R', 'H', '2B', '3B', 'HR', 'TB', 'RBI', 'SB', 'CS', 'BB', 'HBP', 'SO', 'GDP','SLG', 'OBP', 'E']:\n",
    "    lag_1 = []\n",
    "    for i in range(len(regular)):\n",
    "        if len(regular.loc[(regular[\"batter_name\"]==regular[\"batter_name\"].iloc[i])&(regular[\"year\"]==regular[\"year\"].iloc[i]-1)][j])==0:\n",
    "            lag_1.append(np.nan)\n",
    "        else:\n",
    "            lag_1.append(regular.loc[(regular[\"batter_name\"]==regular[\"batter_name\"].iloc[i])&(regular[\"year\"]==regular[\"year\"].iloc[i]-1)][j].iloc[0])\n",
    "    \n",
    "    regular[\"lag_1_\" + j] = lag_1\n",
    "    print(j)"
   ]
  },
  {
   "cell_type": "code",
   "execution_count": 41,
   "metadata": {},
   "outputs": [
    {
     "data": {
      "text/plain": [
       "batter_id                      1\n",
       "batter_name                  강경학\n",
       "year                        2011\n",
       "avg                            0\n",
       "G                              2\n",
       "AB                             1\n",
       "R                              0\n",
       "H                              0\n",
       "2B                             0\n",
       "3B                             0\n",
       "HR                             0\n",
       "TB                             0\n",
       "RBI                            0\n",
       "SB                             0\n",
       "CS                             0\n",
       "BB                             0\n",
       "HBP                            0\n",
       "SO                             1\n",
       "GDP                            0\n",
       "SLG                            0\n",
       "OBP                            0\n",
       "E                              1\n",
       "height/weight         180cm/72kg\n",
       "year_born          1992년 08월 11일\n",
       "position               내야수(우투좌타)\n",
       "starting_salary          10000만원\n",
       "OPS                            0\n",
       "1B                             0\n",
       "lag_1_avg                    NaN\n",
       "lag_1_G                      NaN\n",
       "lag_1_AB                     NaN\n",
       "lag_1_R                      NaN\n",
       "lag_1_H                      NaN\n",
       "lag_1_2B                     NaN\n",
       "lag_1_3B                     NaN\n",
       "lag_1_HR                     NaN\n",
       "lag_1_TB                     NaN\n",
       "lag_1_RBI                    NaN\n",
       "lag_1_SB                     NaN\n",
       "lag_1_CS                     NaN\n",
       "lag_1_BB                     NaN\n",
       "lag_1_HBP                    NaN\n",
       "lag_1_SO                     NaN\n",
       "lag_1_GDP                    NaN\n",
       "lag_1_SLG                    NaN\n",
       "lag_1_OBP                    NaN\n",
       "lag_1_E                      NaN\n",
       "Name: 1, dtype: object"
      ]
     },
     "execution_count": 41,
     "metadata": {},
     "output_type": "execute_result"
    }
   ],
   "source": [
    "i = 1\n",
    "regular[\"batter_name\"].iloc[i], regular[\"year\"].iloc[i]\n",
    "regular.iloc[i,:]"
   ]
  },
  {
   "cell_type": "code",
   "execution_count": 52,
   "metadata": {},
   "outputs": [],
   "source": [
    "total_1BnAB = []\n",
    "total_3BnAB = []\n",
    "total_avg = []\n",
    "for i in range(len(regular)):\n",
    "    a = regular.loc[(regular[\"batter_name\"]==regular[\"batter_name\"].iloc[i])&(regular[\"year\"]<regular[\"year\"].iloc[i])]\n",
    "    if len(a) == 0:\n",
    "        total_1BnAB.append(np.nan)\n",
    "        total_3BnAB.append(np.nan)\n",
    "        total_avg.append(np.nan)        \n",
    "    else:\n",
    "        total_1BnAB.append(a[\"1B\"].sum() / a[\"AB\"].sum())\n",
    "        total_3BnAB.append(a[\"3B\"].sum() / a[\"AB\"].sum())\n",
    "        total_avg.append((a[\"avg\"] * a[\"AB\"]).sum() / a[\"AB\"].sum())"
   ]
  },
  {
   "cell_type": "code",
   "execution_count": 53,
   "metadata": {},
   "outputs": [],
   "source": [
    "regular[\"total_1BnAB\"] = total_1BnAB\n",
    "regular[\"total_3BnAB\"] = total_3BnAB\n",
    "regular[\"total_avg\"] = total_avg"
   ]
  },
  {
   "cell_type": "code",
   "execution_count": 54,
   "metadata": {},
   "outputs": [],
   "source": [
    "input_var = [x for x in regular.columns if (\"lag_\" in x)|(\"total_\" in x)]"
   ]
  },
  {
   "cell_type": "code",
   "execution_count": 55,
   "metadata": {},
   "outputs": [],
   "source": [
    "train = regular.loc[regular[\"year\"]<=2018]\n",
    "train = train.loc[-train[\"OPS\"].isnull()]\n",
    "\n",
    "test = regular.loc[regular[\"year\"]==2019]"
   ]
  },
  {
   "cell_type": "code",
   "execution_count": 56,
   "metadata": {},
   "outputs": [],
   "source": [
    "X = train[input_var]\n",
    "y = train[\"OPS\"]"
   ]
  },
  {
   "cell_type": "code",
   "execution_count": 59,
   "metadata": {},
   "outputs": [],
   "source": [
    "import lightgbm as lgb\n",
    "\n",
    "param = {\"num_leaves\": 100,\n",
    "         \"min_data_in_leaf\": 30,\n",
    "         \"objective\": \"regression\",\n",
    "         \"max_depth\": 6,\n",
    "         \"learning_rate\": 0.02,\n",
    "         \"boosting\": \"gbdt\",\n",
    "         \"feature_fraction\": 0.7522,\n",
    "         \"bagging_freq\": 1,\n",
    "         \"bagging_fraction\": 0.7083,\n",
    "         \"bagging_seed\": 11,\n",
    "         \"metric\": \"rmse\",\n",
    "         \"random_state\": 133}\n",
    "trn_data = lgb.Dataset(train[input_var], label=train[\"OPS\"], weight=train[\"AB\"])\n",
    "num_round = 800\n",
    "clf = lgb.train(param, trn_data, num_round, valid_sets=[trn_data], verbose_eval=0, early_stopping_rounds = 200)"
   ]
  },
  {
   "cell_type": "code",
   "execution_count": 60,
   "metadata": {},
   "outputs": [],
   "source": [
    "predictions = clf.predict(test[input_var], num_iteration=clf.best_iteration)"
   ]
  },
  {
   "cell_type": "code",
   "execution_count": 61,
   "metadata": {},
   "outputs": [
    {
     "data": {
      "text/plain": [
       "array([ 0.72325523,  0.69846143,  0.63083104,  0.55778291,  0.81041556])"
      ]
     },
     "execution_count": 61,
     "metadata": {},
     "output_type": "execute_result"
    }
   ],
   "source": [
    "predictions[:5]"
   ]
  },
  {
   "cell_type": "code",
   "execution_count": 62,
   "metadata": {},
   "outputs": [
    {
     "data": {
      "text/html": [
       "<div>\n",
       "<style>\n",
       "    .dataframe thead tr:only-child th {\n",
       "        text-align: right;\n",
       "    }\n",
       "\n",
       "    .dataframe thead th {\n",
       "        text-align: left;\n",
       "    }\n",
       "\n",
       "    .dataframe tbody tr th {\n",
       "        vertical-align: top;\n",
       "    }\n",
       "</style>\n",
       "<table border=\"1\" class=\"dataframe\">\n",
       "  <thead>\n",
       "    <tr style=\"text-align: right;\">\n",
       "      <th></th>\n",
       "      <th>lag_1_avg</th>\n",
       "      <th>lag_1_G</th>\n",
       "      <th>lag_1_AB</th>\n",
       "      <th>lag_1_R</th>\n",
       "      <th>lag_1_H</th>\n",
       "      <th>lag_1_2B</th>\n",
       "      <th>lag_1_3B</th>\n",
       "      <th>lag_1_HR</th>\n",
       "      <th>lag_1_TB</th>\n",
       "      <th>lag_1_RBI</th>\n",
       "      <th>...</th>\n",
       "      <th>lag_1_BB</th>\n",
       "      <th>lag_1_HBP</th>\n",
       "      <th>lag_1_SO</th>\n",
       "      <th>lag_1_GDP</th>\n",
       "      <th>lag_1_SLG</th>\n",
       "      <th>lag_1_OBP</th>\n",
       "      <th>lag_1_E</th>\n",
       "      <th>total_1BnAB</th>\n",
       "      <th>total_3BnAB</th>\n",
       "      <th>total_avg</th>\n",
       "    </tr>\n",
       "  </thead>\n",
       "  <tbody>\n",
       "    <tr>\n",
       "      <th>0</th>\n",
       "      <td>0.339</td>\n",
       "      <td>50.0</td>\n",
       "      <td>183.0</td>\n",
       "      <td>27.0</td>\n",
       "      <td>62.0</td>\n",
       "      <td>9.0</td>\n",
       "      <td>0.0</td>\n",
       "      <td>8.0</td>\n",
       "      <td>95.0</td>\n",
       "      <td>34.0</td>\n",
       "      <td>...</td>\n",
       "      <td>9.0</td>\n",
       "      <td>8.0</td>\n",
       "      <td>25.0</td>\n",
       "      <td>3.0</td>\n",
       "      <td>0.519</td>\n",
       "      <td>0.383</td>\n",
       "      <td>9.0</td>\n",
       "      <td>0.245902</td>\n",
       "      <td>0.000000</td>\n",
       "      <td>0.339000</td>\n",
       "    </tr>\n",
       "    <tr>\n",
       "      <th>1</th>\n",
       "      <td>0.278</td>\n",
       "      <td>77.0</td>\n",
       "      <td>245.0</td>\n",
       "      <td>42.0</td>\n",
       "      <td>68.0</td>\n",
       "      <td>11.0</td>\n",
       "      <td>1.0</td>\n",
       "      <td>5.0</td>\n",
       "      <td>96.0</td>\n",
       "      <td>27.0</td>\n",
       "      <td>...</td>\n",
       "      <td>38.0</td>\n",
       "      <td>4.0</td>\n",
       "      <td>59.0</td>\n",
       "      <td>7.0</td>\n",
       "      <td>0.392</td>\n",
       "      <td>0.382</td>\n",
       "      <td>2.0</td>\n",
       "      <td>0.188406</td>\n",
       "      <td>0.013285</td>\n",
       "      <td>0.242726</td>\n",
       "    </tr>\n",
       "    <tr>\n",
       "      <th>2</th>\n",
       "      <td>0.200</td>\n",
       "      <td>4.0</td>\n",
       "      <td>5.0</td>\n",
       "      <td>0.0</td>\n",
       "      <td>1.0</td>\n",
       "      <td>1.0</td>\n",
       "      <td>0.0</td>\n",
       "      <td>0.0</td>\n",
       "      <td>2.0</td>\n",
       "      <td>1.0</td>\n",
       "      <td>...</td>\n",
       "      <td>0.0</td>\n",
       "      <td>0.0</td>\n",
       "      <td>3.0</td>\n",
       "      <td>0.0</td>\n",
       "      <td>0.400</td>\n",
       "      <td>0.200</td>\n",
       "      <td>0.0</td>\n",
       "      <td>0.000000</td>\n",
       "      <td>0.000000</td>\n",
       "      <td>0.125000</td>\n",
       "    </tr>\n",
       "    <tr>\n",
       "      <th>3</th>\n",
       "      <td>0.250</td>\n",
       "      <td>6.0</td>\n",
       "      <td>4.0</td>\n",
       "      <td>0.0</td>\n",
       "      <td>1.0</td>\n",
       "      <td>0.0</td>\n",
       "      <td>0.0</td>\n",
       "      <td>0.0</td>\n",
       "      <td>1.0</td>\n",
       "      <td>0.0</td>\n",
       "      <td>...</td>\n",
       "      <td>0.0</td>\n",
       "      <td>0.0</td>\n",
       "      <td>0.0</td>\n",
       "      <td>0.0</td>\n",
       "      <td>0.250</td>\n",
       "      <td>0.250</td>\n",
       "      <td>0.0</td>\n",
       "      <td>0.062500</td>\n",
       "      <td>0.000000</td>\n",
       "      <td>0.124688</td>\n",
       "    </tr>\n",
       "    <tr>\n",
       "      <th>4</th>\n",
       "      <td>0.269</td>\n",
       "      <td>129.0</td>\n",
       "      <td>427.0</td>\n",
       "      <td>46.0</td>\n",
       "      <td>115.0</td>\n",
       "      <td>14.0</td>\n",
       "      <td>0.0</td>\n",
       "      <td>22.0</td>\n",
       "      <td>195.0</td>\n",
       "      <td>71.0</td>\n",
       "      <td>...</td>\n",
       "      <td>29.0</td>\n",
       "      <td>14.0</td>\n",
       "      <td>96.0</td>\n",
       "      <td>11.0</td>\n",
       "      <td>0.457</td>\n",
       "      <td>0.331</td>\n",
       "      <td>8.0</td>\n",
       "      <td>0.179735</td>\n",
       "      <td>0.001894</td>\n",
       "      <td>0.276548</td>\n",
       "    </tr>\n",
       "  </tbody>\n",
       "</table>\n",
       "<p>5 rows × 22 columns</p>\n",
       "</div>"
      ],
      "text/plain": [
       "   lag_1_avg  lag_1_G  lag_1_AB  lag_1_R  lag_1_H  lag_1_2B  lag_1_3B  \\\n",
       "0      0.339     50.0     183.0     27.0     62.0       9.0       0.0   \n",
       "1      0.278     77.0     245.0     42.0     68.0      11.0       1.0   \n",
       "2      0.200      4.0       5.0      0.0      1.0       1.0       0.0   \n",
       "3      0.250      6.0       4.0      0.0      1.0       0.0       0.0   \n",
       "4      0.269    129.0     427.0     46.0    115.0      14.0       0.0   \n",
       "\n",
       "   lag_1_HR  lag_1_TB  lag_1_RBI    ...      lag_1_BB  lag_1_HBP  lag_1_SO  \\\n",
       "0       8.0      95.0       34.0    ...           9.0        8.0      25.0   \n",
       "1       5.0      96.0       27.0    ...          38.0        4.0      59.0   \n",
       "2       0.0       2.0        1.0    ...           0.0        0.0       3.0   \n",
       "3       0.0       1.0        0.0    ...           0.0        0.0       0.0   \n",
       "4      22.0     195.0       71.0    ...          29.0       14.0      96.0   \n",
       "\n",
       "   lag_1_GDP  lag_1_SLG  lag_1_OBP  lag_1_E  total_1BnAB  total_3BnAB  \\\n",
       "0        3.0      0.519      0.383      9.0     0.245902     0.000000   \n",
       "1        7.0      0.392      0.382      2.0     0.188406     0.013285   \n",
       "2        0.0      0.400      0.200      0.0     0.000000     0.000000   \n",
       "3        0.0      0.250      0.250      0.0     0.062500     0.000000   \n",
       "4       11.0      0.457      0.331      8.0     0.179735     0.001894   \n",
       "\n",
       "   total_avg  \n",
       "0   0.339000  \n",
       "1   0.242726  \n",
       "2   0.125000  \n",
       "3   0.124688  \n",
       "4   0.276548  \n",
       "\n",
       "[5 rows x 22 columns]"
      ]
     },
     "execution_count": 62,
     "metadata": {},
     "output_type": "execute_result"
    }
   ],
   "source": [
    "test[input_var].head()"
   ]
  },
  {
   "cell_type": "code",
   "execution_count": 69,
   "metadata": {},
   "outputs": [
    {
     "data": {
      "text/html": [
       "<div>\n",
       "<style>\n",
       "    .dataframe thead tr:only-child th {\n",
       "        text-align: right;\n",
       "    }\n",
       "\n",
       "    .dataframe thead th {\n",
       "        text-align: left;\n",
       "    }\n",
       "\n",
       "    .dataframe tbody tr th {\n",
       "        vertical-align: top;\n",
       "    }\n",
       "</style>\n",
       "<table border=\"1\" class=\"dataframe\">\n",
       "  <thead>\n",
       "    <tr style=\"text-align: right;\">\n",
       "      <th></th>\n",
       "      <th>batter_id</th>\n",
       "      <th>batter_name</th>\n",
       "    </tr>\n",
       "  </thead>\n",
       "  <tbody>\n",
       "    <tr>\n",
       "      <th>0</th>\n",
       "      <td>0</td>\n",
       "      <td>가르시아</td>\n",
       "    </tr>\n",
       "    <tr>\n",
       "      <th>1</th>\n",
       "      <td>1</td>\n",
       "      <td>강경학</td>\n",
       "    </tr>\n",
       "    <tr>\n",
       "      <th>2</th>\n",
       "      <td>2</td>\n",
       "      <td>강구성</td>\n",
       "    </tr>\n",
       "    <tr>\n",
       "      <th>3</th>\n",
       "      <td>3</td>\n",
       "      <td>강민국</td>\n",
       "    </tr>\n",
       "    <tr>\n",
       "      <th>4</th>\n",
       "      <td>4</td>\n",
       "      <td>강민호</td>\n",
       "    </tr>\n",
       "  </tbody>\n",
       "</table>\n",
       "</div>"
      ],
      "text/plain": [
       "   batter_id batter_name\n",
       "0          0        가르시아\n",
       "1          1         강경학\n",
       "2          2         강구성\n",
       "3          3         강민국\n",
       "4          4         강민호"
      ]
     },
     "execution_count": 69,
     "metadata": {},
     "output_type": "execute_result"
    }
   ],
   "source": [
    "sub = test[[\"batter_id\", \"batter_name\"]]\n",
    "sub.head()"
   ]
  },
  {
   "cell_type": "code",
   "execution_count": 70,
   "metadata": {},
   "outputs": [],
   "source": [
    "sub[\"ops\"] = predictions"
   ]
  },
  {
   "cell_type": "code",
   "execution_count": 71,
   "metadata": {},
   "outputs": [],
   "source": [
    "sub.to_csv(\"result/submission.csv\", index=False)"
   ]
  },
  {
   "cell_type": "code",
   "execution_count": 74,
   "metadata": {},
   "outputs": [
    {
     "data": {
      "text/html": [
       "<div>\n",
       "<style>\n",
       "    .dataframe thead tr:only-child th {\n",
       "        text-align: right;\n",
       "    }\n",
       "\n",
       "    .dataframe thead th {\n",
       "        text-align: left;\n",
       "    }\n",
       "\n",
       "    .dataframe tbody tr th {\n",
       "        vertical-align: top;\n",
       "    }\n",
       "</style>\n",
       "<table border=\"1\" class=\"dataframe\">\n",
       "  <thead>\n",
       "    <tr style=\"text-align: right;\">\n",
       "      <th></th>\n",
       "      <th>batter_id</th>\n",
       "      <th>batter_name</th>\n",
       "      <th>ops</th>\n",
       "    </tr>\n",
       "  </thead>\n",
       "  <tbody>\n",
       "    <tr>\n",
       "      <th>0</th>\n",
       "      <td>0</td>\n",
       "      <td>가르시아</td>\n",
       "      <td>0.723255</td>\n",
       "    </tr>\n",
       "    <tr>\n",
       "      <th>1</th>\n",
       "      <td>1</td>\n",
       "      <td>강경학</td>\n",
       "      <td>0.698461</td>\n",
       "    </tr>\n",
       "    <tr>\n",
       "      <th>2</th>\n",
       "      <td>2</td>\n",
       "      <td>강구성</td>\n",
       "      <td>0.630831</td>\n",
       "    </tr>\n",
       "    <tr>\n",
       "      <th>3</th>\n",
       "      <td>3</td>\n",
       "      <td>강민국</td>\n",
       "      <td>0.557783</td>\n",
       "    </tr>\n",
       "    <tr>\n",
       "      <th>4</th>\n",
       "      <td>4</td>\n",
       "      <td>강민호</td>\n",
       "      <td>0.810416</td>\n",
       "    </tr>\n",
       "  </tbody>\n",
       "</table>\n",
       "</div>"
      ],
      "text/plain": [
       "   batter_id batter_name       ops\n",
       "0          0        가르시아  0.723255\n",
       "1          1         강경학  0.698461\n",
       "2          2         강구성  0.630831\n",
       "3          3         강민국  0.557783\n",
       "4          4         강민호  0.810416"
      ]
     },
     "execution_count": 74,
     "metadata": {},
     "output_type": "execute_result"
    }
   ],
   "source": [
    "sub = pd.read_csv(\"result/submission.csv\", engine=\"python\")\n",
    "sub.head()"
   ]
  },
  {
   "cell_type": "code",
   "execution_count": 84,
   "metadata": {},
   "outputs": [
    {
     "data": {
      "text/html": [
       "<div>\n",
       "<style>\n",
       "    .dataframe thead tr:only-child th {\n",
       "        text-align: right;\n",
       "    }\n",
       "\n",
       "    .dataframe thead th {\n",
       "        text-align: left;\n",
       "    }\n",
       "\n",
       "    .dataframe tbody tr th {\n",
       "        vertical-align: top;\n",
       "    }\n",
       "</style>\n",
       "<table border=\"1\" class=\"dataframe\">\n",
       "  <thead>\n",
       "    <tr style=\"text-align: right;\">\n",
       "      <th></th>\n",
       "      <th>batter_id</th>\n",
       "      <th>batter_name</th>\n",
       "      <th>ops</th>\n",
       "    </tr>\n",
       "  </thead>\n",
       "  <tbody>\n",
       "    <tr>\n",
       "      <th>40</th>\n",
       "      <td>58</td>\n",
       "      <td>김재환</td>\n",
       "      <td>1.049841</td>\n",
       "    </tr>\n",
       "    <tr>\n",
       "      <th>80</th>\n",
       "      <td>113</td>\n",
       "      <td>박병호</td>\n",
       "      <td>1.024168</td>\n",
       "    </tr>\n",
       "    <tr>\n",
       "      <th>68</th>\n",
       "      <td>91</td>\n",
       "      <td>로맥</td>\n",
       "      <td>1.011138</td>\n",
       "    </tr>\n",
       "    <tr>\n",
       "      <th>67</th>\n",
       "      <td>90</td>\n",
       "      <td>러프</td>\n",
       "      <td>1.007314</td>\n",
       "    </tr>\n",
       "    <tr>\n",
       "      <th>207</th>\n",
       "      <td>313</td>\n",
       "      <td>최정</td>\n",
       "      <td>0.988078</td>\n",
       "    </tr>\n",
       "    <tr>\n",
       "      <th>221</th>\n",
       "      <td>334</td>\n",
       "      <td>호잉</td>\n",
       "      <td>0.980193</td>\n",
       "    </tr>\n",
       "    <tr>\n",
       "      <th>69</th>\n",
       "      <td>95</td>\n",
       "      <td>로하스</td>\n",
       "      <td>0.972761</td>\n",
       "    </tr>\n",
       "    <tr>\n",
       "      <th>216</th>\n",
       "      <td>326</td>\n",
       "      <td>한동민</td>\n",
       "      <td>0.970000</td>\n",
       "    </tr>\n",
       "    <tr>\n",
       "      <th>106</th>\n",
       "      <td>149</td>\n",
       "      <td>손아섭</td>\n",
       "      <td>0.964248</td>\n",
       "    </tr>\n",
       "    <tr>\n",
       "      <th>140</th>\n",
       "      <td>202</td>\n",
       "      <td>이대호</td>\n",
       "      <td>0.964025</td>\n",
       "    </tr>\n",
       "  </tbody>\n",
       "</table>\n",
       "</div>"
      ],
      "text/plain": [
       "     batter_id batter_name       ops\n",
       "40          58         김재환  1.049841\n",
       "80         113         박병호  1.024168\n",
       "68          91          로맥  1.011138\n",
       "67          90          러프  1.007314\n",
       "207        313          최정  0.988078\n",
       "221        334          호잉  0.980193\n",
       "69          95         로하스  0.972761\n",
       "216        326         한동민  0.970000\n",
       "106        149         손아섭  0.964248\n",
       "140        202         이대호  0.964025"
      ]
     },
     "execution_count": 84,
     "metadata": {},
     "output_type": "execute_result"
    }
   ],
   "source": [
    "sub.sort_values(by=[\"ops\"], ascending=False)[0:10]"
   ]
  }
 ],
 "metadata": {
  "kernelspec": {
   "display_name": "kaggle",
   "language": "python",
   "name": "kaggle"
  },
  "language_info": {
   "codemirror_mode": {
    "name": "ipython",
    "version": 3
   },
   "file_extension": ".py",
   "mimetype": "text/x-python",
   "name": "python",
   "nbconvert_exporter": "python",
   "pygments_lexer": "ipython3",
   "version": "3.6.8"
  }
 },
 "nbformat": 4,
 "nbformat_minor": 2
}
